{
 "cells": [
  {
   "cell_type": "code",
   "execution_count": 14,
   "id": "ab7966d9-1817-4cfd-abec-20965661bd4f",
   "metadata": {},
   "outputs": [
    {
     "name": "stdout",
     "output_type": "stream",
     "text": [
      "δf/δx at (x,y,z)= (1, 2, 3) is 5.000000099999458\n",
      "δf/δy at (x,y,z)= (1, 2, 3) is 12.00000001000845\n",
      "δf/δz at (x,y,z)= (1, 2, 3) is 12.000000000025324\n",
      "Divergence of Electric field= 29.00000011003323\n"
     ]
    }
   ],
   "source": [
    "import numpy as np\n",
    "def part_derv(f,x,y,z,method='central', h=1e-4):\n",
    "    df_dx = (f(x+h,y,z)-f(x-h,y,z))/(2*h)\n",
    "    df_dy = (f(x,y+h,z)-f(x,y-h,z))/(2*h)\n",
    "    df_dz = (f(x,y,z+h)-f(x,y,z-h))/(2*h)\n",
    "    return df_dx, df_dy, df_dz\n",
    "\n",
    "def funci(x,y,z):\n",
    "    return x**5\n",
    "\n",
    "def funcj(x,y,z):\n",
    "    return y**3\n",
    "\n",
    "def funck(x,y,z):\n",
    "    return (z**2)*y\n",
    "\n",
    "x1= 1\n",
    "y1= 2\n",
    "z1= 3\n",
    "\n",
    "df_dx_i, df_dy_i, df_dz_i = part_derv(funci,x1,y1,z1,method='central',h=0.0001)\n",
    "df_dx_j, df_dy_j, df_dz_j = part_derv(funcj,x1,y1,z1,method='central',h=0.0001)\n",
    "df_dx_k, df_dy_k, df_dz_k = part_derv(funck,x1,y1,z1,method='central',h=0.0001)\n",
    "\n",
    "print('\\u03B4f/\\u03B4x at (x,y,z)=',(x1,y1,z1),'is', df_dx_i)\n",
    "print('\\u03B4f/\\u03B4y at (x,y,z)=',(x1,y1,z1),'is', df_dy_j)\n",
    "print('\\u03B4f/\\u03B4z at (x,y,z)=',(x1,y1,z1),'is', df_dz_k)\n",
    "\n",
    "div= df_dx_i + df_dy_j + df_dz_k\n",
    "print('Divergence of vector field=',div)"
   ]
  },
  {
   "cell_type": "code",
   "execution_count": 16,
   "id": "cd42b253-9dab-41ef-abd3-1b6e8fab7734",
   "metadata": {},
   "outputs": [
    {
     "name": "stdout",
     "output_type": "stream",
     "text": [
      "δf/δx at (x,y,z)= (1, 2, 3) is 5.001000010000012\n",
      "δf/δy at (x,y,z)= (1, 2, 3) is 12.000099999999847\n",
      "δf/δz at (x,y,z)= (1, 2, 3) is 11.999999999999744\n",
      "Divergence of vector field= 29.001100009999604\n"
     ]
    }
   ],
   "source": [
    "import numpy as np\n",
    "def part_derv(f,x,y,z,method='central', h=1e-4):\n",
    "    df_dx = (f(x+h,y,z)-f(x-h,y,z))/(2*h)\n",
    "    df_dy = (f(x,y+h,z)-f(x,y-h,z))/(2*h)\n",
    "    df_dz = (f(x,y,z+h)-f(x,y,z-h))/(2*h)\n",
    "    return df_dx, df_dy, df_dz\n",
    "\n",
    "def funci(x,y,z):\n",
    "    return x**5\n",
    "\n",
    "def funcj(x,y,z):\n",
    "    return y**3\n",
    "\n",
    "def funck(x,y,z):\n",
    "    return (z**2)*y\n",
    "\n",
    "x1= 1\n",
    "y1= 2\n",
    "z1= 3\n",
    "\n",
    "df_dx_i, df_dy_i, df_dz_i = part_derv(funci,x1,y1,z1,method='central',h=0.01)\n",
    "df_dx_j, df_dy_j, df_dz_j = part_derv(funcj,x1,y1,z1,method='central',h=0.01)\n",
    "df_dx_k, df_dy_k, df_dz_k = part_derv(funck,x1,y1,z1,method='central',h=0.01)\n",
    "\n",
    "print('\\u03B4f/\\u03B4x at (x,y,z)=',(x1,y1,z1),'is', df_dx_i)\n",
    "print('\\u03B4f/\\u03B4y at (x,y,z)=',(x1,y1,z1),'is', df_dy_j)\n",
    "print('\\u03B4f/\\u03B4z at (x,y,z)=',(x1,y1,z1),'is', df_dz_k)\n",
    "\n",
    "div= df_dx_i + df_dy_j + df_dz_k\n",
    "print('Divergence of vector field=',div)"
   ]
  },
  {
   "cell_type": "code",
   "execution_count": 18,
   "id": "b510b173-633d-4307-ae96-64a2fa376e6d",
   "metadata": {},
   "outputs": [
    {
     "name": "stdout",
     "output_type": "stream",
     "text": [
      "δf/δx at (x,y,z)= (1, 2, 3) is 16.0\n",
      "δf/δy at (x,y,z)= (1, 2, 3) is 13.0\n",
      "δf/δz at (x,y,z)= (1, 2, 3) is 12.0\n",
      "Divergence of Electric field= 41.0\n"
     ]
    }
   ],
   "source": [
    "import numpy as np\n",
    "def part_derv(f,x,y,z,method='central', h=1e-4):\n",
    "    df_dx = (f(x+h,y,z)-f(x-h,y,z))/(2*h)\n",
    "    df_dy = (f(x,y+h,z)-f(x,y-h,z))/(2*h)\n",
    "    df_dz = (f(x,y,z+h)-f(x,y,z-h))/(2*h)\n",
    "    return df_dx, df_dy, df_dz\n",
    "\n",
    "def funci(x,y,z):\n",
    "    return x**5\n",
    "\n",
    "def funcj(x,y,z):\n",
    "    return y**3\n",
    "\n",
    "def funck(x,y,z):\n",
    "    return (z**2)*y\n",
    "\n",
    "x1= 1\n",
    "y1= 2\n",
    "z1= 3\n",
    "\n",
    "df_dx_i, df_dy_i, df_dz_i = part_derv(funci,x1,y1,z1,method='central',h=1)\n",
    "df_dx_j, df_dy_j, df_dz_j = part_derv(funcj,x1,y1,z1,method='central',h=1)\n",
    "df_dx_k, df_dy_k, df_dz_k = part_derv(funck,x1,y1,z1,method='central',h=1)\n",
    "\n",
    "print('\\u03B4f/\\u03B4x at (x,y,z)=',(x1,y1,z1),'is', df_dx_i)\n",
    "print('\\u03B4f/\\u03B4y at (x,y,z)=',(x1,y1,z1),'is', df_dy_j)\n",
    "print('\\u03B4f/\\u03B4z at (x,y,z)=',(x1,y1,z1),'is', df_dz_k)\n",
    "\n",
    "div= df_dx_i + df_dy_j + df_dz_k\n",
    "print('Divergence of Electric field=',div)"
   ]
  },
  {
   "cell_type": "code",
   "execution_count": null,
   "id": "835e3e2d-401e-44c0-ac85-fd46f128de90",
   "metadata": {},
   "outputs": [],
   "source": []
  }
 ],
 "metadata": {
  "kernelspec": {
   "display_name": "Python 3 (ipykernel)",
   "language": "python",
   "name": "python3"
  },
  "language_info": {
   "codemirror_mode": {
    "name": "ipython",
    "version": 3
   },
   "file_extension": ".py",
   "mimetype": "text/x-python",
   "name": "python",
   "nbconvert_exporter": "python",
   "pygments_lexer": "ipython3",
   "version": "3.12.4"
  }
 },
 "nbformat": 4,
 "nbformat_minor": 5
}
