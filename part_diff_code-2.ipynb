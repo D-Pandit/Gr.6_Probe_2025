{
 "cells": [
  {
   "cell_type": "code",
   "execution_count": 9,
   "id": "ab7966d9-1817-4cfd-abec-20965661bd4f",
   "metadata": {},
   "outputs": [
    {
     "name": "stdout",
     "output_type": "stream",
     "text": [
      "δf/δx at (x,y,z)= (2, -1, 3) is -2.000000000002\n",
      "δf/δy at (x,y,z)= (2, -1, 3) is 0.0\n",
      "δf/δz at (x,y,z)= (2, -1, 3) is -6.000000000012662\n",
      "Divergence of Electric field= -8.000000000014662\n"
     ]
    }
   ],
   "source": [
    "import numpy as np\n",
    "def part_derv(f,x,y,z,method='central', h=1e-4):\n",
    "    df_dx = (f(x+h,y,z)-f(x-h,y,z))/(2*h)\n",
    "    df_dy = (f(x,y+h,z)-f(x,y-h,z))/(2*h)\n",
    "    df_dz = (f(x,y,z+h)-f(x,y,z-h))/(2*h)\n",
    "    return df_dx, df_dy, df_dz\n",
    "\n",
    "def funci(x,y,z):\n",
    "    return 2*x*y\n",
    "\n",
    "def funcj(x,y,z):\n",
    "    return z\n",
    "\n",
    "def funck(x,y,z):\n",
    "    return (z**2)*y\n",
    "\n",
    "x1= 2\n",
    "y1= -1\n",
    "z1= 3\n",
    "\n",
    "df_dx_i, df_dy_i, df_dz_i = part_derv(funci,x1,y1,z1,method='central',h=0.0001)\n",
    "df_dx_j, df_dy_j, df_dz_j = part_derv(funcj,x1,y1,z1,method='central',h=0.0001)\n",
    "df_dx_k, df_dy_k, df_dz_k = part_derv(funck,x1,y1,z1,method='central',h=0.0001)\n",
    "\n",
    "print('\\u03B4f/\\u03B4x at (x,y,z)=',(x1,y1,z1),'is', df_dx_i)\n",
    "print('\\u03B4f/\\u03B4y at (x,y,z)=',(x1,y1,z1),'is', df_dy_j)\n",
    "print('\\u03B4f/\\u03B4z at (x,y,z)=',(x1,y1,z1),'is', df_dz_k)\n",
    "\n",
    "div= df_dx_i + df_dy_j + df_dz_k\n",
    "print('Divergence of Electric field=',div)"
   ]
  },
  {
   "cell_type": "code",
   "execution_count": 11,
   "id": "cd42b253-9dab-41ef-abd3-1b6e8fab7734",
   "metadata": {},
   "outputs": [
    {
     "name": "stdout",
     "output_type": "stream",
     "text": [
      "δf/δx at (x,y,z)= (2, -1, 3) is -1.9999999999999796\n",
      "δf/δy at (x,y,z)= (2, -1, 3) is 0.0\n",
      "δf/δz at (x,y,z)= (2, -1, 3) is -5.999999999999872\n",
      "Divergence of Electric field= -7.999999999999852\n"
     ]
    }
   ],
   "source": [
    "import numpy as np\n",
    "def part_derv(f,x,y,z,method='central', h=1e-2):\n",
    "    df_dx = (f(x+h,y,z)-f(x-h,y,z))/(2*h)\n",
    "    df_dy = (f(x,y+h,z)-f(x,y-h,z))/(2*h)\n",
    "    df_dz = (f(x,y,z+h)-f(x,y,z-h))/(2*h)\n",
    "    return df_dx, df_dy, df_dz\n",
    "\n",
    "def funci(x,y,z):\n",
    "    return 2*x*y\n",
    "\n",
    "def funcj(x,y,z):\n",
    "    return z\n",
    "\n",
    "def funck(x,y,z):\n",
    "    return (z**2)*y\n",
    "\n",
    "x1= 2\n",
    "y1= -1\n",
    "z1= 3\n",
    "\n",
    "df_dx_i, df_dy_i, df_dz_i = part_derv(funci,x1,y1,z1,method='central',h=0.01)\n",
    "df_dx_j, df_dy_j, df_dz_j = part_derv(funcj,x1,y1,z1,method='central',h=0.01)\n",
    "df_dx_k, df_dy_k, df_dz_k = part_derv(funck,x1,y1,z1,method='central',h=0.01)\n",
    "\n",
    "print('\\u03B4f/\\u03B4x at (x,y,z)=',(x1,y1,z1),'is', df_dx_i)\n",
    "print('\\u03B4f/\\u03B4y at (x,y,z)=',(x1,y1,z1),'is', df_dy_j)\n",
    "print('\\u03B4f/\\u03B4z at (x,y,z)=',(x1,y1,z1),'is', df_dz_k)\n",
    "\n",
    "div= df_dx_i + df_dy_j + df_dz_k\n",
    "print('Divergence of Electric field=',div)"
   ]
  },
  {
   "cell_type": "code",
   "execution_count": 13,
   "id": "b510b173-633d-4307-ae96-64a2fa376e6d",
   "metadata": {},
   "outputs": [
    {
     "name": "stdout",
     "output_type": "stream",
     "text": [
      "δf/δx at (x,y,z)= (2, -1, 3) is -2.0\n",
      "δf/δy at (x,y,z)= (2, -1, 3) is 0.0\n",
      "δf/δz at (x,y,z)= (2, -1, 3) is -6.0\n",
      "Divergence of Electric field= -8.0\n"
     ]
    }
   ],
   "source": [
    "import numpy as np\n",
    "def part_derv(f,x,y,z,method='central', h=1):\n",
    "    df_dx = (f(x+h,y,z)-f(x-h,y,z))/(2*h)\n",
    "    df_dy = (f(x,y+h,z)-f(x,y-h,z))/(2*h)\n",
    "    df_dz = (f(x,y,z+h)-f(x,y,z-h))/(2*h)\n",
    "    return df_dx, df_dy, df_dz\n",
    "\n",
    "def funci(x,y,z):\n",
    "    return 2*x*y\n",
    "\n",
    "def funcj(x,y,z):\n",
    "    return z\n",
    "\n",
    "def funck(x,y,z):\n",
    "    return (z**2)*y\n",
    "\n",
    "x1= 2\n",
    "y1= -1\n",
    "z1= 3\n",
    "\n",
    "df_dx_i, df_dy_i, df_dz_i = part_derv(funci,x1,y1,z1,method='central',h=1)\n",
    "df_dx_j, df_dy_j, df_dz_j = part_derv(funcj,x1,y1,z1,method='central',h=1)\n",
    "df_dx_k, df_dy_k, df_dz_k = part_derv(funck,x1,y1,z1,method='central',h=1)\n",
    "\n",
    "print('\\u03B4f/\\u03B4x at (x,y,z)=',(x1,y1,z1),'is', df_dx_i)\n",
    "print('\\u03B4f/\\u03B4y at (x,y,z)=',(x1,y1,z1),'is', df_dy_j)\n",
    "print('\\u03B4f/\\u03B4z at (x,y,z)=',(x1,y1,z1),'is', df_dz_k)\n",
    "\n",
    "div= df_dx_i + df_dy_j + df_dz_k\n",
    "print('Divergence of Electric field=',div)"
   ]
  },
  {
   "cell_type": "code",
   "execution_count": null,
   "id": "835e3e2d-401e-44c0-ac85-fd46f128de90",
   "metadata": {},
   "outputs": [],
   "source": []
  }
 ],
 "metadata": {
  "kernelspec": {
   "display_name": "Python 3 (ipykernel)",
   "language": "python",
   "name": "python3"
  },
  "language_info": {
   "codemirror_mode": {
    "name": "ipython",
    "version": 3
   },
   "file_extension": ".py",
   "mimetype": "text/x-python",
   "name": "python",
   "nbconvert_exporter": "python",
   "pygments_lexer": "ipython3",
   "version": "3.12.4"
  }
 },
 "nbformat": 4,
 "nbformat_minor": 5
}
